{
 "cells": [
  {
   "cell_type": "markdown",
   "metadata": {},
   "source": [
    "## Common packages"
   ]
  },
  {
   "cell_type": "code",
   "execution_count": 2,
   "metadata": {
    "collapsed": true
   },
   "outputs": [],
   "source": [
    "import plotly.offline as pyo\n",
    "import plotly.graph_objs as go\n",
    "import pandas as pd\n",
    "import numpy as np"
   ]
  },
  {
   "cell_type": "markdown",
   "metadata": {},
   "source": [
    "## Scatter plot"
   ]
  },
  {
   "cell_type": "code",
   "execution_count": 2,
   "metadata": {},
   "outputs": [
    {
     "data": {
      "text/plain": [
       "'file://C:\\\\Users\\\\keert\\\\Documents\\\\Keerthi\\\\learning\\\\scatter1.html'"
      ]
     },
     "execution_count": 2,
     "metadata": {},
     "output_type": "execute_result"
    }
   ],
   "source": [
    "#######\n",
    "# Objective: Create a scatterplot of 1000 random data points.\n",
    "# x-axis values should come from a normal distribution using\n",
    "# np.random.randn(1000)\n",
    "# y-axis values should come from a uniform distribution over [0,1) using\n",
    "# np.random.rand(1000)\n",
    "######\n",
    "\n",
    "# Define a data variable\n",
    "x = np.random.randn(1000)\n",
    "y = np.random.randn(1000)\n",
    "\n",
    "# Define the layout\n",
    "data = [go.Scatter(x=x, \n",
    "                   y=y, \n",
    "                   mode='markers+')]\n",
    "\n",
    "# Create a fig from data and layout, and plot the fig\n",
    "pyo.plot(data, filename='scatter1.html')"
   ]
  },
  {
   "cell_type": "markdown",
   "metadata": {},
   "source": [
    "### Line charts"
   ]
  },
  {
   "cell_type": "code",
   "execution_count": null,
   "metadata": {
    "collapsed": true
   },
   "outputs": [],
   "source": [
    "#######\n",
    "# Objective: Using the file 2010YumaAZ.csv, develop a Line Chart\n",
    "# that plots seven days worth of temperature data on one graph.\n",
    "# You can use a for loop to assign each day to its own trace.\n",
    "######\n",
    "\n",
    "# Perform imports here:\n",
    "import plotly.offline as pyo\n",
    "import plotly.graph_objs as go\n",
    "import pandas as pd\n",
    "import numpy as np\n",
    "\n",
    "\n",
    "# Create a pandas DataFrame from 2010YumaAZ.csv\n",
    "df = pd.read_csv('../data/2010YumaAZ.csv')\n",
    "days = ['TUESDAY','WEDNESDAY','THURSDAY','FRIDAY','SATURDAY','SUNDAY','MONDAY']\n",
    "\n",
    "\n",
    "# Use a for loop (or list comprehension to create traces for the data list)\n",
    "data = []\n",
    "\n",
    "for day in days:\n",
    "    # What should go inside this Scatter call?\n",
    "    trace = go.Scatter()\n",
    "    data.append(trace)\n",
    "\n",
    "# Define the layout"
   ]
  },
  {
   "cell_type": "code",
   "execution_count": 13,
   "metadata": {
    "collapsed": true
   },
   "outputs": [],
   "source": [
    "df = pd.read_csv(\"C:/Users/keert/Documents/Keerthi/learning/Data/2010YumaAZ.csv\")"
   ]
  },
  {
   "cell_type": "markdown",
   "metadata": {},
   "source": [
    "### Bubble chart"
   ]
  },
  {
   "cell_type": "code",
   "execution_count": 54,
   "metadata": {},
   "outputs": [
    {
     "data": {
      "text/plain": [
       "'file://C:\\\\Users\\\\keert\\\\Documents\\\\Keerthi\\\\learning\\\\bubble.html'"
      ]
     },
     "execution_count": 54,
     "metadata": {},
     "output_type": "execute_result"
    }
   ],
   "source": [
    "#######\n",
    "# Objective: Create a bubble chart that compares three other features\n",
    "# from the mpg.csv dataset. Fields include: 'mpg', 'cylinders', 'displacement'\n",
    "# 'horsepower', 'weight', 'acceleration', 'model_year', 'origin', 'name'\n",
    "######\n",
    "\n",
    "# Perform imports here:\n",
    "import plotly.offline as pyo\n",
    "import plotly.graph_objs as go\n",
    "import pandas as pd\n",
    "import numpy as np\n",
    "\n",
    "# create a DataFrame from the .csv file:\n",
    "df = pd.read_csv(\"C:/Users/keert/Documents/Keerthi/learning/Data/mpg.csv\")\n",
    "\n",
    "\n",
    "# create data by choosing fields for x, y and marker size attributes\n",
    "data = [go.Scatter(x=df['mpg'],\n",
    "                   y=df['horsepower'],\n",
    "                   text =df['name'],\n",
    "                   mode='markers',\n",
    "                   marker=dict(size=df['model_year'],\n",
    "                              color=df['origin']))]\n",
    "\n",
    "\n",
    "\n",
    "# create a layout with a title and axis labels\n",
    "layout = go.Layout(\n",
    "    title='mpg vs. horsepower',\n",
    "    xaxis = dict(title = 'mpg'),\n",
    "    yaxis = dict(title = 'horsepower'),\n",
    "    hovermode='closest'\n",
    ")\n",
    "\n",
    "# create a fig from data & layout, and plot the fig\n",
    "fig = go.Figure(data=data, layout=layout)\n",
    "\n",
    "pyo.plot(fig, filename='bubble.html')"
   ]
  }
 ],
 "metadata": {
  "kernelspec": {
   "display_name": "Python 3",
   "language": "python",
   "name": "python3"
  },
  "language_info": {
   "codemirror_mode": {
    "name": "ipython",
    "version": 3
   },
   "file_extension": ".py",
   "mimetype": "text/x-python",
   "name": "python",
   "nbconvert_exporter": "python",
   "pygments_lexer": "ipython3",
   "version": "3.6.3"
  }
 },
 "nbformat": 4,
 "nbformat_minor": 2
}
