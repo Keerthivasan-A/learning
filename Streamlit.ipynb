{
 "cells": [
  {
   "cell_type": "code",
   "execution_count": 3,
   "metadata": {},
   "outputs": [],
   "source": [
    "import pandas as pd\n",
    "import numpy as np\n",
    "import matplotlib.pyplot as plt\n",
    "import seaborn as sns\n",
    "import plotly.express as px\n",
    "import plotly.graph_objs as go\n",
    "import plotly.figure_factory as ff\n",
    "from plotly.figure_factory import create_distplot\n",
    "import streamlit as st"
   ]
  },
  {
   "cell_type": "code",
   "execution_count": null,
   "metadata": {},
   "outputs": [],
   "source": [
    "st.title(\"CAMPUS RECRUITEMENT\")\n",
    "st.subheader(\"Date set overview\")\n",
    "df = pd.read_csv('Placement_Data_Full_Class.csv')\n",
    "st.write(df.describe())\n",
    "st.write(df.head())\n",
    "\n",
    "# Single variable analysis\n",
    "fig = px.histogram(df,\n",
    "                   x='ssc_p',\n",
    "                   color='status')\n",
    "\n",
    "fig.update_layout(title='SSC percentage histogram',\n",
    "                 xaxis_title='SSC percentage',\n",
    "                 yaxis_title='Count')\n",
    "fig.show()\n",
    "\n",
    "st.plotly_chart(fig, use_container_width=True)"
   ]
  }
 ],
 "metadata": {
  "kernelspec": {
   "display_name": "Python 3",
   "language": "python",
   "name": "python3"
  },
  "language_info": {
   "codemirror_mode": {
    "name": "ipython",
    "version": 3
   },
   "file_extension": ".py",
   "mimetype": "text/x-python",
   "name": "python",
   "nbconvert_exporter": "python",
   "pygments_lexer": "ipython3",
   "version": "3.7.1"
  }
 },
 "nbformat": 4,
 "nbformat_minor": 2
}
